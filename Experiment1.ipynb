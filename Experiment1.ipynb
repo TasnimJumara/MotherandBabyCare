{
  "nbformat": 4,
  "nbformat_minor": 0,
  "metadata": {
    "colab": {
      "name": "Experiment1.ipynb",
      "provenance": [],
      "mount_file_id": "1OKrAf-Yrjl9qFTuzbWFouJiB_FC5ISiS",
      "authorship_tag": "ABX9TyP3eLgMZgfOtdeXlCvIGJrh",
      "include_colab_link": true
    },
    "kernelspec": {
      "name": "python3",
      "display_name": "Python 3"
    },
    "language_info": {
      "name": "python"
    },
    "accelerator": "GPU"
  },
  "cells": [
    {
      "cell_type": "markdown",
      "metadata": {
        "id": "view-in-github",
        "colab_type": "text"
      },
      "source": [
        "<a href=\"https://colab.research.google.com/github/TasnimJumara/MotherandBabyCare/blob/master/Experiment1.ipynb\" target=\"_parent\"><img src=\"https://colab.research.google.com/assets/colab-badge.svg\" alt=\"Open In Colab\"/></a>"
      ]
    },
    {
      "cell_type": "code",
      "metadata": {
        "id": "Z8uEVwddtzIq"
      },
      "source": [
        "import torch\n",
        "import torch.nn as nn\n",
        "import torch.optim as optim\n",
        "import torchvision.transforms as transforms\n",
        "import torchvision\n",
        "from torch.utils.data import DataLoader\n",
        "from torch.utils.data import Dataset\n",
        "import torchvision.datasets as data\n",
        "import cv2\n"
      ],
      "execution_count": null,
      "outputs": []
    },
    {
      "cell_type": "code",
      "metadata": {
        "id": "oj9U1AhLwDJk"
      },
      "source": [
        "device=torch.device('cuda' if torch.cuda.is_available() else 'cpu')"
      ],
      "execution_count": null,
      "outputs": []
    },
    {
      "cell_type": "code",
      "metadata": {
        "colab": {
          "base_uri": "https://localhost:8080/"
        },
        "id": "k_2nhF8DJIUw",
        "outputId": "ecf44f74-80bb-4ca0-9159-af252657e652"
      },
      "source": [
        "print(device)"
      ],
      "execution_count": null,
      "outputs": [
        {
          "output_type": "stream",
          "name": "stdout",
          "text": [
            "cuda\n"
          ]
        }
      ]
    },
    {
      "cell_type": "code",
      "metadata": {
        "id": "kV0Ou6Tdwoz8"
      },
      "source": [
        "import pandas as pd"
      ],
      "execution_count": null,
      "outputs": []
    },
    {
      "cell_type": "code",
      "metadata": {
        "id": "DoO5SveHyT5k"
      },
      "source": [
        "dataset1=pd.read_csv(r'/content/sample_data/training-a.csv')"
      ],
      "execution_count": null,
      "outputs": []
    },
    {
      "cell_type": "code",
      "metadata": {
        "id": "ydglqbidyfTX",
        "colab": {
          "base_uri": "https://localhost:8080/",
          "height": 204
        },
        "outputId": "d2cf9b13-73d3-4b96-fca2-c95441bac49d"
      },
      "source": [
        "dataset1.head()"
      ],
      "execution_count": null,
      "outputs": [
        {
          "output_type": "execute_result",
          "data": {
            "text/html": [
              "<div>\n",
              "<style scoped>\n",
              "    .dataframe tbody tr th:only-of-type {\n",
              "        vertical-align: middle;\n",
              "    }\n",
              "\n",
              "    .dataframe tbody tr th {\n",
              "        vertical-align: top;\n",
              "    }\n",
              "\n",
              "    .dataframe thead th {\n",
              "        text-align: right;\n",
              "    }\n",
              "</style>\n",
              "<table border=\"1\" class=\"dataframe\">\n",
              "  <thead>\n",
              "    <tr style=\"text-align: right;\">\n",
              "      <th></th>\n",
              "      <th>filename</th>\n",
              "      <th>original filename</th>\n",
              "      <th>scanid</th>\n",
              "      <th>digit</th>\n",
              "      <th>database name original</th>\n",
              "      <th>contributing team</th>\n",
              "      <th>database name</th>\n",
              "    </tr>\n",
              "  </thead>\n",
              "  <tbody>\n",
              "    <tr>\n",
              "      <th>0</th>\n",
              "      <td>a00000.png</td>\n",
              "      <td>Scan_58_digit_5_num_8.png</td>\n",
              "      <td>58</td>\n",
              "      <td>5</td>\n",
              "      <td>BHDDB</td>\n",
              "      <td>Buet_Broncos</td>\n",
              "      <td>training-a</td>\n",
              "    </tr>\n",
              "    <tr>\n",
              "      <th>1</th>\n",
              "      <td>a00001.png</td>\n",
              "      <td>Scan_73_digit_3_num_5.png</td>\n",
              "      <td>73</td>\n",
              "      <td>3</td>\n",
              "      <td>BHDDB</td>\n",
              "      <td>Buet_Broncos</td>\n",
              "      <td>training-a</td>\n",
              "    </tr>\n",
              "    <tr>\n",
              "      <th>2</th>\n",
              "      <td>a00002.png</td>\n",
              "      <td>Scan_18_digit_1_num_3.png</td>\n",
              "      <td>18</td>\n",
              "      <td>1</td>\n",
              "      <td>BHDDB</td>\n",
              "      <td>Buet_Broncos</td>\n",
              "      <td>training-a</td>\n",
              "    </tr>\n",
              "    <tr>\n",
              "      <th>3</th>\n",
              "      <td>a00003.png</td>\n",
              "      <td>Scan_166_digit_7_num_3.png</td>\n",
              "      <td>166</td>\n",
              "      <td>7</td>\n",
              "      <td>BHDDB</td>\n",
              "      <td>Buet_Broncos</td>\n",
              "      <td>training-a</td>\n",
              "    </tr>\n",
              "    <tr>\n",
              "      <th>4</th>\n",
              "      <td>a00004.png</td>\n",
              "      <td>Scan_108_digit_0_num_1.png</td>\n",
              "      <td>108</td>\n",
              "      <td>0</td>\n",
              "      <td>BHDDB</td>\n",
              "      <td>Buet_Broncos</td>\n",
              "      <td>training-a</td>\n",
              "    </tr>\n",
              "  </tbody>\n",
              "</table>\n",
              "</div>"
            ],
            "text/plain": [
              "     filename           original filename  ...  contributing team  database name\n",
              "0  a00000.png   Scan_58_digit_5_num_8.png  ...       Buet_Broncos     training-a\n",
              "1  a00001.png   Scan_73_digit_3_num_5.png  ...       Buet_Broncos     training-a\n",
              "2  a00002.png   Scan_18_digit_1_num_3.png  ...       Buet_Broncos     training-a\n",
              "3  a00003.png  Scan_166_digit_7_num_3.png  ...       Buet_Broncos     training-a\n",
              "4  a00004.png  Scan_108_digit_0_num_1.png  ...       Buet_Broncos     training-a\n",
              "\n",
              "[5 rows x 7 columns]"
            ]
          },
          "metadata": {},
          "execution_count": 8
        }
      ]
    },
    {
      "cell_type": "code",
      "metadata": {
        "id": "9-OEuLeUyiUm"
      },
      "source": [
        "dataset1.drop('original filename',axis=1,inplace=True)"
      ],
      "execution_count": null,
      "outputs": []
    },
    {
      "cell_type": "code",
      "metadata": {
        "colab": {
          "base_uri": "https://localhost:8080/",
          "height": 204
        },
        "id": "s0d7KQNo1_Fj",
        "outputId": "697ee34d-57fe-437f-fe31-ea9e7e8fafd7"
      },
      "source": [
        "dataset1.head()"
      ],
      "execution_count": null,
      "outputs": [
        {
          "output_type": "execute_result",
          "data": {
            "text/html": [
              "<div>\n",
              "<style scoped>\n",
              "    .dataframe tbody tr th:only-of-type {\n",
              "        vertical-align: middle;\n",
              "    }\n",
              "\n",
              "    .dataframe tbody tr th {\n",
              "        vertical-align: top;\n",
              "    }\n",
              "\n",
              "    .dataframe thead th {\n",
              "        text-align: right;\n",
              "    }\n",
              "</style>\n",
              "<table border=\"1\" class=\"dataframe\">\n",
              "  <thead>\n",
              "    <tr style=\"text-align: right;\">\n",
              "      <th></th>\n",
              "      <th>filename</th>\n",
              "      <th>scanid</th>\n",
              "      <th>digit</th>\n",
              "      <th>database name original</th>\n",
              "      <th>contributing team</th>\n",
              "      <th>database name</th>\n",
              "    </tr>\n",
              "  </thead>\n",
              "  <tbody>\n",
              "    <tr>\n",
              "      <th>0</th>\n",
              "      <td>a00000.png</td>\n",
              "      <td>58</td>\n",
              "      <td>5</td>\n",
              "      <td>BHDDB</td>\n",
              "      <td>Buet_Broncos</td>\n",
              "      <td>training-a</td>\n",
              "    </tr>\n",
              "    <tr>\n",
              "      <th>1</th>\n",
              "      <td>a00001.png</td>\n",
              "      <td>73</td>\n",
              "      <td>3</td>\n",
              "      <td>BHDDB</td>\n",
              "      <td>Buet_Broncos</td>\n",
              "      <td>training-a</td>\n",
              "    </tr>\n",
              "    <tr>\n",
              "      <th>2</th>\n",
              "      <td>a00002.png</td>\n",
              "      <td>18</td>\n",
              "      <td>1</td>\n",
              "      <td>BHDDB</td>\n",
              "      <td>Buet_Broncos</td>\n",
              "      <td>training-a</td>\n",
              "    </tr>\n",
              "    <tr>\n",
              "      <th>3</th>\n",
              "      <td>a00003.png</td>\n",
              "      <td>166</td>\n",
              "      <td>7</td>\n",
              "      <td>BHDDB</td>\n",
              "      <td>Buet_Broncos</td>\n",
              "      <td>training-a</td>\n",
              "    </tr>\n",
              "    <tr>\n",
              "      <th>4</th>\n",
              "      <td>a00004.png</td>\n",
              "      <td>108</td>\n",
              "      <td>0</td>\n",
              "      <td>BHDDB</td>\n",
              "      <td>Buet_Broncos</td>\n",
              "      <td>training-a</td>\n",
              "    </tr>\n",
              "  </tbody>\n",
              "</table>\n",
              "</div>"
            ],
            "text/plain": [
              "     filename  scanid  ...  contributing team database name\n",
              "0  a00000.png      58  ...       Buet_Broncos    training-a\n",
              "1  a00001.png      73  ...       Buet_Broncos    training-a\n",
              "2  a00002.png      18  ...       Buet_Broncos    training-a\n",
              "3  a00003.png     166  ...       Buet_Broncos    training-a\n",
              "4  a00004.png     108  ...       Buet_Broncos    training-a\n",
              "\n",
              "[5 rows x 6 columns]"
            ]
          },
          "metadata": {},
          "execution_count": 11
        }
      ]
    },
    {
      "cell_type": "code",
      "metadata": {
        "id": "0CEXHUHy2FK6"
      },
      "source": [
        "dataset1.drop('scanid',axis=1,inplace=True)\n",
        "dataset1.drop('database name original',axis=1,inplace=True)"
      ],
      "execution_count": null,
      "outputs": []
    },
    {
      "cell_type": "code",
      "metadata": {
        "colab": {
          "base_uri": "https://localhost:8080/",
          "height": 204
        },
        "id": "M7juo7cH2Wkk",
        "outputId": "5531e8c6-189e-465e-93f6-974146f9ef77"
      },
      "source": [
        "dataset1.head()"
      ],
      "execution_count": null,
      "outputs": [
        {
          "output_type": "execute_result",
          "data": {
            "text/html": [
              "<div>\n",
              "<style scoped>\n",
              "    .dataframe tbody tr th:only-of-type {\n",
              "        vertical-align: middle;\n",
              "    }\n",
              "\n",
              "    .dataframe tbody tr th {\n",
              "        vertical-align: top;\n",
              "    }\n",
              "\n",
              "    .dataframe thead th {\n",
              "        text-align: right;\n",
              "    }\n",
              "</style>\n",
              "<table border=\"1\" class=\"dataframe\">\n",
              "  <thead>\n",
              "    <tr style=\"text-align: right;\">\n",
              "      <th></th>\n",
              "      <th>filename</th>\n",
              "      <th>digit</th>\n",
              "      <th>contributing team</th>\n",
              "      <th>database name</th>\n",
              "    </tr>\n",
              "  </thead>\n",
              "  <tbody>\n",
              "    <tr>\n",
              "      <th>0</th>\n",
              "      <td>a00000.png</td>\n",
              "      <td>5</td>\n",
              "      <td>Buet_Broncos</td>\n",
              "      <td>training-a</td>\n",
              "    </tr>\n",
              "    <tr>\n",
              "      <th>1</th>\n",
              "      <td>a00001.png</td>\n",
              "      <td>3</td>\n",
              "      <td>Buet_Broncos</td>\n",
              "      <td>training-a</td>\n",
              "    </tr>\n",
              "    <tr>\n",
              "      <th>2</th>\n",
              "      <td>a00002.png</td>\n",
              "      <td>1</td>\n",
              "      <td>Buet_Broncos</td>\n",
              "      <td>training-a</td>\n",
              "    </tr>\n",
              "    <tr>\n",
              "      <th>3</th>\n",
              "      <td>a00003.png</td>\n",
              "      <td>7</td>\n",
              "      <td>Buet_Broncos</td>\n",
              "      <td>training-a</td>\n",
              "    </tr>\n",
              "    <tr>\n",
              "      <th>4</th>\n",
              "      <td>a00004.png</td>\n",
              "      <td>0</td>\n",
              "      <td>Buet_Broncos</td>\n",
              "      <td>training-a</td>\n",
              "    </tr>\n",
              "  </tbody>\n",
              "</table>\n",
              "</div>"
            ],
            "text/plain": [
              "     filename  digit contributing team database name\n",
              "0  a00000.png      5      Buet_Broncos    training-a\n",
              "1  a00001.png      3      Buet_Broncos    training-a\n",
              "2  a00002.png      1      Buet_Broncos    training-a\n",
              "3  a00003.png      7      Buet_Broncos    training-a\n",
              "4  a00004.png      0      Buet_Broncos    training-a"
            ]
          },
          "metadata": {},
          "execution_count": 13
        }
      ]
    },
    {
      "cell_type": "code",
      "metadata": {
        "colab": {
          "base_uri": "https://localhost:8080/",
          "height": 204
        },
        "id": "_eQlfc9Y2Z2m",
        "outputId": "090245ad-d8c1-48c6-94ed-b5b769c71884"
      },
      "source": [
        "dataset1.drop('contributing team',axis=1,inplace=True)\n",
        "dataset1.drop('database name',axis=1,inplace=True)\n",
        "dataset1.head()"
      ],
      "execution_count": null,
      "outputs": [
        {
          "output_type": "execute_result",
          "data": {
            "text/html": [
              "<div>\n",
              "<style scoped>\n",
              "    .dataframe tbody tr th:only-of-type {\n",
              "        vertical-align: middle;\n",
              "    }\n",
              "\n",
              "    .dataframe tbody tr th {\n",
              "        vertical-align: top;\n",
              "    }\n",
              "\n",
              "    .dataframe thead th {\n",
              "        text-align: right;\n",
              "    }\n",
              "</style>\n",
              "<table border=\"1\" class=\"dataframe\">\n",
              "  <thead>\n",
              "    <tr style=\"text-align: right;\">\n",
              "      <th></th>\n",
              "      <th>filename</th>\n",
              "      <th>digit</th>\n",
              "    </tr>\n",
              "  </thead>\n",
              "  <tbody>\n",
              "    <tr>\n",
              "      <th>0</th>\n",
              "      <td>a00000.png</td>\n",
              "      <td>5</td>\n",
              "    </tr>\n",
              "    <tr>\n",
              "      <th>1</th>\n",
              "      <td>a00001.png</td>\n",
              "      <td>3</td>\n",
              "    </tr>\n",
              "    <tr>\n",
              "      <th>2</th>\n",
              "      <td>a00002.png</td>\n",
              "      <td>1</td>\n",
              "    </tr>\n",
              "    <tr>\n",
              "      <th>3</th>\n",
              "      <td>a00003.png</td>\n",
              "      <td>7</td>\n",
              "    </tr>\n",
              "    <tr>\n",
              "      <th>4</th>\n",
              "      <td>a00004.png</td>\n",
              "      <td>0</td>\n",
              "    </tr>\n",
              "  </tbody>\n",
              "</table>\n",
              "</div>"
            ],
            "text/plain": [
              "     filename  digit\n",
              "0  a00000.png      5\n",
              "1  a00001.png      3\n",
              "2  a00002.png      1\n",
              "3  a00003.png      7\n",
              "4  a00004.png      0"
            ]
          },
          "metadata": {},
          "execution_count": 14
        }
      ]
    },
    {
      "cell_type": "code",
      "metadata": {
        "id": "Ho2BGVeh0XJf"
      },
      "source": [
        "import os\n",
        "from skimage import io"
      ],
      "execution_count": null,
      "outputs": []
    },
    {
      "cell_type": "code",
      "metadata": {
        "colab": {
          "base_uri": "https://localhost:8080/",
          "height": 419
        },
        "id": "POD9OgPK3PQS",
        "outputId": "fa9587c3-5ade-4196-f9e2-259a285024d6"
      },
      "source": [
        "dataset1"
      ],
      "execution_count": null,
      "outputs": [
        {
          "output_type": "execute_result",
          "data": {
            "text/html": [
              "<div>\n",
              "<style scoped>\n",
              "    .dataframe tbody tr th:only-of-type {\n",
              "        vertical-align: middle;\n",
              "    }\n",
              "\n",
              "    .dataframe tbody tr th {\n",
              "        vertical-align: top;\n",
              "    }\n",
              "\n",
              "    .dataframe thead th {\n",
              "        text-align: right;\n",
              "    }\n",
              "</style>\n",
              "<table border=\"1\" class=\"dataframe\">\n",
              "  <thead>\n",
              "    <tr style=\"text-align: right;\">\n",
              "      <th></th>\n",
              "      <th>filename</th>\n",
              "      <th>digit</th>\n",
              "    </tr>\n",
              "  </thead>\n",
              "  <tbody>\n",
              "    <tr>\n",
              "      <th>0</th>\n",
              "      <td>a00000.png</td>\n",
              "      <td>5</td>\n",
              "    </tr>\n",
              "    <tr>\n",
              "      <th>1</th>\n",
              "      <td>a00001.png</td>\n",
              "      <td>3</td>\n",
              "    </tr>\n",
              "    <tr>\n",
              "      <th>2</th>\n",
              "      <td>a00002.png</td>\n",
              "      <td>1</td>\n",
              "    </tr>\n",
              "    <tr>\n",
              "      <th>3</th>\n",
              "      <td>a00003.png</td>\n",
              "      <td>7</td>\n",
              "    </tr>\n",
              "    <tr>\n",
              "      <th>4</th>\n",
              "      <td>a00004.png</td>\n",
              "      <td>0</td>\n",
              "    </tr>\n",
              "    <tr>\n",
              "      <th>...</th>\n",
              "      <td>...</td>\n",
              "      <td>...</td>\n",
              "    </tr>\n",
              "    <tr>\n",
              "      <th>19697</th>\n",
              "      <td>a19697.png</td>\n",
              "      <td>4</td>\n",
              "    </tr>\n",
              "    <tr>\n",
              "      <th>19698</th>\n",
              "      <td>a19698.png</td>\n",
              "      <td>3</td>\n",
              "    </tr>\n",
              "    <tr>\n",
              "      <th>19699</th>\n",
              "      <td>a19699.png</td>\n",
              "      <td>8</td>\n",
              "    </tr>\n",
              "    <tr>\n",
              "      <th>19700</th>\n",
              "      <td>a19700.png</td>\n",
              "      <td>3</td>\n",
              "    </tr>\n",
              "    <tr>\n",
              "      <th>19701</th>\n",
              "      <td>a19701.png</td>\n",
              "      <td>8</td>\n",
              "    </tr>\n",
              "  </tbody>\n",
              "</table>\n",
              "<p>19702 rows × 2 columns</p>\n",
              "</div>"
            ],
            "text/plain": [
              "         filename  digit\n",
              "0      a00000.png      5\n",
              "1      a00001.png      3\n",
              "2      a00002.png      1\n",
              "3      a00003.png      7\n",
              "4      a00004.png      0\n",
              "...           ...    ...\n",
              "19697  a19697.png      4\n",
              "19698  a19698.png      3\n",
              "19699  a19699.png      8\n",
              "19700  a19700.png      3\n",
              "19701  a19701.png      8\n",
              "\n",
              "[19702 rows x 2 columns]"
            ]
          },
          "metadata": {},
          "execution_count": 15
        }
      ]
    },
    {
      "cell_type": "code",
      "metadata": {
        "id": "PTzEV1Ng3VwJ"
      },
      "source": [
        "dataset1.to_csv('updated_dataset.csv',index=False)"
      ],
      "execution_count": null,
      "outputs": []
    },
    {
      "cell_type": "code",
      "metadata": {
        "colab": {
          "base_uri": "https://localhost:8080/"
        },
        "id": "daoN7yyD3V3e",
        "outputId": "a68d462c-b8a4-4302-d5b7-da3c1df0d1ef"
      },
      "source": [
        "ls"
      ],
      "execution_count": null,
      "outputs": [
        {
          "output_type": "stream",
          "name": "stdout",
          "text": [
            "\u001b[0m\u001b[01;34msample_data\u001b[0m/  updated_dataset.csv\n"
          ]
        }
      ]
    },
    {
      "cell_type": "code",
      "metadata": {
        "id": "ugnY0rPL3-Hm"
      },
      "source": [
        "class DigitFindingDataset(Dataset):\n",
        "  def _init_(self,csv_file,root_dir,tranform=None,target_transform=None):\n",
        "    self.annotations=pd.read_csv(csv_file)\n",
        "    self.root_dir=root_dir\n",
        "    self.transform=transform"
      ],
      "execution_count": null,
      "outputs": []
    },
    {
      "cell_type": "code",
      "metadata": {
        "id": "tDdAAzy04hRT"
      },
      "source": [
        "def _len_(self):\n",
        "  return len(self.annotations)"
      ],
      "execution_count": null,
      "outputs": []
    },
    {
      "cell_type": "code",
      "metadata": {
        "id": "l-g_CJIf4pRT"
      },
      "source": [
        "def _getitem_(self,index):\n",
        "  img_path=os.path.join(self.root_dir,self.annotations.iloc[index,0])\n",
        "  image=io.imread(img_path)\n",
        "  y_label=torch.tensor(int(self.annotations.iloc[index,1]))\n",
        "\n",
        "  if self.transform:\n",
        "    image=self.tranform(image)\n",
        "\n",
        "  return (image, y_label)"
      ],
      "execution_count": null,
      "outputs": []
    },
    {
      "cell_type": "code",
      "metadata": {
        "id": "LJoc1nvPJqqt"
      },
      "source": [
        "batch_size=20\n",
        "num_iteration=20000\n",
        "input_dimension=28*28\n",
        "num_hiddennodes=100\n",
        "output_dimension=10\n",
        "learning_rate=.01\n",
        "hidden_layers=6\n",
        "device = torch.device(\"cuda:0\" if torch.cuda.is_available() else \"cpu\")"
      ],
      "execution_count": null,
      "outputs": []
    },
    {
      "cell_type": "code",
      "metadata": {
        "id": "T0jY7KZ0E50C",
        "colab": {
          "base_uri": "https://localhost:8080/"
        },
        "outputId": "4572503f-5511-4401-8c6f-fc486babf5bf"
      },
      "source": [
        "class DeepNeuralNetworkModel(nn.Module):\n",
        "    def __init__(self, input_size, num_classes, num_hiddennodes):\n",
        "        super().__init__()\n",
        "        self.linear_1 = nn.Linear(input_size, num_hiddennodes)\n",
        "        self.sigmoid_1 = nn.Sigmoid()\n",
        "\n",
        "        #self.linear_2 = nn.Linear(num_hiddennodes, num_hiddennodes)\n",
        "        #self.sigmoid_2 = nn.Sigmoid()\n",
        "  \n",
        "        #self.linear_3 = nn.Linear(num_hiddennodes, num_hiddennodes)\n",
        "        #self.relu_1 = nn.ReLU()\n",
        "\n",
        "        #self.linear_4 = nn.Linear(num_hiddennodes,num_hiddennodes)\n",
        "        #self.relu_2 = nn.ReLU()\n",
        "\n",
        "        self.linear_5 = nn.Linear(num_hiddennodes,num_hiddennodes)\n",
        "        self.sigmoid_3 = nn.Sigmoid()\n",
        "\n",
        "        self.linear_6 = nn.Linear(num_hiddennodes,num_hiddennodes)\n",
        "        self.relu_3 = nn.ReLU()\n",
        "\n",
        "        self.linear_out = nn.Linear(num_hiddennodes, num_classes)\n",
        "\n",
        "    def forward(self, x):\n",
        "       \n",
        "        out = self.linear_1(x)\n",
        "        out = self.sigmoid_1(out)\n",
        "        \n",
        "        #out  = self.linear_2(out)\n",
        "        #out = self.sigmoid_2(out)\n",
        "\n",
        "        #out  = self.linear_3(out)\n",
        "        #out = self.relu_1(out)\n",
        "\n",
        "        #out  = self.linear_4(out)\n",
        "        #out = self.relu_2(out)\n",
        "\n",
        "        out  = self.linear_5(out)\n",
        "        out = self.sigmoid_3(out)\n",
        "\n",
        "        out  = self.linear_6(out)\n",
        "        out = self.relu_3(out)\n",
        "        \n",
        "        probas  = self.linear_out(out)\n",
        "        return probas\n",
        "\n",
        "model = DeepNeuralNetworkModel(input_size = input_dimension,\n",
        "                               num_classes = output_dimension,\n",
        "                               num_hiddennodes = num_hiddennodes)\n",
        "model.to(device)\n",
        "\n",
        "criterion = nn.CrossEntropyLoss()\n",
        "optimizer = torch.optim.SGD(model.parameters(), lr=learning_rate)\n",
        "\n",
        "iteration_loss = []\n",
        "iter = 0\n",
        "for epoch in range(num_epoch):\n",
        "    for i, (images, labels) in enumerate(train_loader):\n",
        "\n",
        "        images = images.view(-1, 28*28).to(device)\n",
        "        labels = labels.to(device)\n",
        "\n",
        "        # Clear gradients w.r.t. parameters\n",
        "        optimizer.zero_grad()\n",
        "\n",
        "        # Forward pass to get output/logits\n",
        "        outputs = model(images) \n",
        "\n",
        "        # Calculate Loss: softmax --> cross entropy loss\n",
        "        loss = criterion(outputs, labels)\n",
        "\n",
        "        # Getting gradients w.r.t. parameters\n",
        "        loss.backward()\n",
        "\n",
        "        # Updating parameters\n",
        "        optimizer.step()\n",
        "\n",
        "        iter += 1\n",
        "\n",
        "        if iter % 500 == 0:\n",
        "            # Calculate Accuracy         \n",
        "            correct = 0\n",
        "            total = 0\n",
        "            # Iterate through test dataset\n",
        "            for images, labels in test_loader:\n",
        "               \n",
        "                images = images.view(-1, 28*28).to(device)\n",
        "\n",
        "                outputs = model(images)\n",
        "\n",
        "                _, predicted = torch.max(outputs, 1)\n",
        "\n",
        "                total += labels.size(0)\n",
        "\n",
        "\n",
        "                if torch.cuda.is_available():\n",
        "                    correct += (predicted.cpu() == labels.cpu()).sum() \n",
        "                else:\n",
        "                    correct += (predicted == labels).sum()\n",
        "\n",
        "            accuracy = 100 * correct.item() / total\n",
        "\n",
        "            iteration_loss.append(loss.item())\n",
        "            print('Iteration: {}. Loss: {}. Accuracy: {}'.format(iter, loss.item(), accuracy))"
      ],
      "execution_count": null,
      "outputs": [
        {
          "output_type": "stream",
          "name": "stdout",
          "text": [
            "Iteration: 500. Loss: 2.30454421043396. Accuracy: 11.35\n",
            "Iteration: 1000. Loss: 2.326892375946045. Accuracy: 11.35\n",
            "Iteration: 1500. Loss: 2.3112034797668457. Accuracy: 11.35\n",
            "Iteration: 2000. Loss: 2.3055224418640137. Accuracy: 10.32\n",
            "Iteration: 2500. Loss: 2.320997476577759. Accuracy: 11.35\n",
            "Iteration: 3000. Loss: 2.2961606979370117. Accuracy: 11.35\n",
            "Iteration: 3500. Loss: 2.3073580265045166. Accuracy: 11.83\n",
            "Iteration: 4000. Loss: 2.2373480796813965. Accuracy: 11.35\n",
            "Iteration: 4500. Loss: 2.312793254852295. Accuracy: 11.35\n",
            "Iteration: 5000. Loss: 2.3141398429870605. Accuracy: 11.35\n",
            "Iteration: 5500. Loss: 2.293206214904785. Accuracy: 11.43\n",
            "Iteration: 6000. Loss: 2.2824501991271973. Accuracy: 11.35\n",
            "Iteration: 6500. Loss: 2.2956058979034424. Accuracy: 28.94\n",
            "Iteration: 7000. Loss: 2.281963348388672. Accuracy: 24.56\n",
            "Iteration: 7500. Loss: 2.1913998126983643. Accuracy: 21.37\n",
            "Iteration: 8000. Loss: 2.2283377647399902. Accuracy: 21.15\n",
            "Iteration: 8500. Loss: 2.105445146560669. Accuracy: 26.0\n",
            "Iteration: 9000. Loss: 1.5799896717071533. Accuracy: 32.19\n",
            "Iteration: 9500. Loss: 1.7231128215789795. Accuracy: 32.61\n",
            "Iteration: 10000. Loss: 1.8492177724838257. Accuracy: 35.42\n",
            "Iteration: 10500. Loss: 1.7135322093963623. Accuracy: 38.85\n",
            "Iteration: 11000. Loss: 1.5627942085266113. Accuracy: 40.08\n",
            "Iteration: 11500. Loss: 1.4353876113891602. Accuracy: 45.75\n",
            "Iteration: 12000. Loss: 1.3524361848831177. Accuracy: 49.25\n",
            "Iteration: 12500. Loss: 1.5099273920059204. Accuracy: 55.1\n",
            "Iteration: 13000. Loss: 1.0047448873519897. Accuracy: 64.41\n",
            "Iteration: 13500. Loss: 1.2537548542022705. Accuracy: 64.48\n",
            "Iteration: 14000. Loss: 1.0527379512786865. Accuracy: 67.81\n",
            "Iteration: 14500. Loss: 1.2321687936782837. Accuracy: 69.42\n",
            "Iteration: 15000. Loss: 1.1106774806976318. Accuracy: 71.6\n",
            "Iteration: 15500. Loss: 1.2671490907669067. Accuracy: 73.09\n",
            "Iteration: 16000. Loss: 0.8563247919082642. Accuracy: 74.01\n",
            "Iteration: 16500. Loss: 0.5347882509231567. Accuracy: 75.94\n",
            "Iteration: 17000. Loss: 0.5412349104881287. Accuracy: 76.53\n",
            "Iteration: 17500. Loss: 0.4367259442806244. Accuracy: 76.86\n",
            "Iteration: 18000. Loss: 0.6550883650779724. Accuracy: 77.81\n"
          ]
        }
      ]
    },
    {
      "cell_type": "code",
      "metadata": {
        "id": "mtjcVx9cq21j",
        "colab": {
          "base_uri": "https://localhost:8080/",
          "height": 316
        },
        "outputId": "6cc72156-4d67-40ab-cbed-3c4fb03cb262"
      },
      "source": [
        "import matplotlib\n",
        "import matplotlib.pyplot as plt\n",
        "\n",
        "print (iteration_loss)\n",
        "plt.plot(iteration_loss)\n",
        "plt.ylabel('Cross Entropy Loss')\n",
        "plt.xlabel('Iteration (in every 500)')\n",
        "plt.show()"
      ],
      "execution_count": null,
      "outputs": [
        {
          "output_type": "stream",
          "name": "stdout",
          "text": [
            "[2.30454421043396, 2.326892375946045, 2.3112034797668457, 2.3055224418640137, 2.320997476577759, 2.2961606979370117, 2.3073580265045166, 2.2373480796813965, 2.312793254852295, 2.3141398429870605, 2.293206214904785, 2.2824501991271973, 2.2956058979034424, 2.281963348388672, 2.1913998126983643, 2.2283377647399902, 2.105445146560669, 1.5799896717071533, 1.7231128215789795, 1.8492177724838257, 1.7135322093963623, 1.5627942085266113, 1.4353876113891602, 1.3524361848831177, 1.5099273920059204, 1.0047448873519897, 1.2537548542022705, 1.0527379512786865, 1.2321687936782837, 1.1106774806976318, 1.2671490907669067, 0.8563247919082642, 0.5347882509231567, 0.5412349104881287, 0.4367259442806244, 0.6550883650779724]\n"
          ]
        },
        {
          "output_type": "display_data",
          "data": {
            "image/png": "[encoded data removed]",
            "text/plain": [
              "<Figure size 432x288 with 1 Axes>"
            ]
          },
          "metadata": {
            "needs_background": "light"
          }
        }
      ]
    }
  ]
}